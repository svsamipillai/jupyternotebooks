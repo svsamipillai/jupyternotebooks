{
 "cells": [
  {
   "cell_type": "markdown",
   "metadata": {},
   "source": [
    "# Use Spark for Python to load data and run SQL queries\n",
    "This notebook introduces basic Spark concepts and helps you to start using Spark for Python.\n",
    "\n",
    "Some familiarity with Python is recommended.\n",
    "\n",
    "In this notebook, you'll use the publicly available **mtcars** data set from *Motor Trend* magazine to learn some basic Python. You'll learn how to load data, create a Spark DataFrame, aggregate data, run mathematical formulas, and run SQL queries against the data.\n"
   ]
  },
  {
   "cell_type": "markdown",
   "metadata": {},
   "source": [
    "## Table of contents\n",
    "This notebook contains these main sections:\n",
    "\n",
    "1. [Load a DataFrame](#Load_a_DataFrame)\n",
    "2. [Create an SQLContext](#Create_an_SQLContext)\n",
    "3. [Create a Spark DataFrame](#Create_a_Spark_DataFrame)\n",
    "4. [Aggregate data after grouping by columns](#Aggregate_data_after_grouping_by_columns)\n",
    "5. [Operate on columns](#Operate_on_columns)\n",
    "6. [Run SQL queries from the Spark DataFrame](#Run_SQL_queries_from_the_Spark_DataFrame)"
   ]
  },
  {
   "cell_type": "markdown",
   "metadata": {},
   "source": [
    "<a id='Load_a_DataFrame'></a>\n",
    "## 1. Load a DataFrame\n",
    "A DataFrame is a distributed collection of data that is organized into named columns. The Python pandas DataFrame that you will create will load an external DataFrame called **mtcars**, which includes observations on the following 11 variables:\n",
    "\n",
    "`[, 1]\tmpg     Miles / (US) gallon`  \n",
    "`[, 2]\tcyl     Number of cylinders`  \n",
    "`[, 3]\tdisp\tDisplacement (cu. in.)`  \n",
    "`[, 4]\thp      Gross horsepower`  \n",
    "`[, 5]\tdrat    Rear axle ratio`  \n",
    "`[, 6]\twt      Weight (1000 lbs)`  \n",
    "`[, 7]\tqsec    1/4 mile time (seconds)`  \n",
    "`[, 8]\tvs      0 = V-engine, 1 = straight engine`  \n",
    "`[, 9]\tam      Transmission (0 = automatic, 1 = manual)`  \n",
    "`[,10]\tgear    Number of forward gears`  \n",
    "`[,11]\tcarb    Number of carburetors`"
   ]
  },
  {
   "cell_type": "code",
   "execution_count": 1,
   "metadata": {},
   "outputs": [],
   "source": [
    "import pandas as pd\n",
    "import numpy as np"
   ]
  },
  {
   "cell_type": "code",
   "execution_count": 2,
   "metadata": {},
   "outputs": [],
   "source": [
    "mtcars_array = np.array([\n",
    "    [\"Car Brand1\", 18, 4, 1000, 110, 3.9, 3.1, 16.46, 1, 4, 4, 4],\n",
    "    [\"Car Brand2\", 24, 6, 2000, 120, 3.8, 3.5, 16.46, 0, 55, 4, 4],\n",
    "    [\"Car Brand3\", 30, 8, 3000, 130, 3.7, 4.0, 16.46, 1, 4, 4, 4],\n",
    "    [\"Car Brand4\", 14, 4, 4000, 140, 3.6, 3.2, 16.46, 0, 55, 3, 4],\n",
    "    [\"Car Brand5\", 12, 4, 5000, 150, 3.5, 3.3, 16.46, 1, 4, 4, 4],\n",
    "    [\"Car Brand6\", 20, 6, 6000, 160, 3.4, 3.6, 16.46, 0, 55, 3, 4],\n",
    "    [\"Car Brand7\", 15.5, 4, 700, 170, 3.3, 3.4, 16.46, 0, 1, 4, 4],\n",
    "    [\"Car Brand8\", 10, 4, 800, 180, 3.2, 3.3, 16.46, 0, 0, 3, 4],\n",
    "    [\"Car Brand9\", 5, 4, 900, 190, 3.1, 3.2, 16.46, 0, 1, 5, 4],\n",
    "    [\"Car Brand10\", 7, 4, 2000, 110, 3.0, 3.1, 16.46, 0, 55, 3, 4],\n",
    "    [\"Car Brand11\", 22, 6, 3000, 111, 2.9, 3.7, 16.46, 1, 4, 4, 4],\n",
    "    [\"Car Brand12\", 33, 8, 4000, 112, 2.8, 4.2, 16.46, 0, 55, 4, 4],\n",
    "    [\"Car Brand13\", 46, 8, 5000, 113, 2.7, 4.3, 16.46, 1, 4, 5, 4],\n",
    "    [\"Car Brand14\", 8, 4, 6000, 114, 2.5, 3.2, 16.46, 0, 55, 4, 4],\n",
    "    [\"Car Brand15\", 60, 8, 7000, 115, 2.4, 4.4, 16.46, 1, 4, 5, 4]\n",
    "                        ])\n",
    "mtcars = pd.DataFrame(mtcars_array)\n",
    "mtcars.columns = ['car', 'mpg', 'cyl', 'disp', 'hp', 'drat', 'wt', 'qsec', 'vs', 'am', 'gear', 'carb'] "
   ]
  },
  {
   "cell_type": "code",
   "execution_count": 4,
   "metadata": {},
   "outputs": [
    {
     "name": "stdout",
     "output_type": "stream",
     "text": [
      "            car   mpg cyl  disp   hp drat   wt   qsec vs  am gear carb\n",
      "0    Car Brand1    18   4  1000  110  3.9  3.1  16.46  1   4    4    4\n",
      "1    Car Brand2    24   6  2000  120  3.8  3.5  16.46  0  55    4    4\n",
      "2    Car Brand3    30   8  3000  130  3.7  4.0  16.46  1   4    4    4\n",
      "3    Car Brand4    14   4  4000  140  3.6  3.2  16.46  0  55    3    4\n",
      "4    Car Brand5    12   4  5000  150  3.5  3.3  16.46  1   4    4    4\n",
      "5    Car Brand6    20   6  6000  160  3.4  3.6  16.46  0  55    3    4\n",
      "6    Car Brand7  15.5   4   700  170  3.3  3.4  16.46  0   1    4    4\n",
      "7    Car Brand8    10   4   800  180  3.2  3.3  16.46  0   0    3    4\n",
      "8    Car Brand9     5   4   900  190  3.1  3.2  16.46  0   1    5    4\n",
      "9   Car Brand10     7   4  2000  110  3.0  3.1  16.46  0  55    3    4\n",
      "10  Car Brand11    22   6  3000  111  2.9  3.7  16.46  1   4    4    4\n",
      "11  Car Brand12    33   8  4000  112  2.8  4.2  16.46  0  55    4    4\n",
      "12  Car Brand13    46   8  5000  113  2.7  4.3  16.46  1   4    5    4\n",
      "13  Car Brand14     8   4  6000  114  2.5  3.2  16.46  0  55    4    4\n",
      "14  Car Brand15    60   8  7000  115  2.4  4.4  16.46  1   4    5    4\n"
     ]
    }
   ],
   "source": [
    "print(mtcars)"
   ]
  },
  {
   "cell_type": "code",
   "execution_count": 5,
   "metadata": {},
   "outputs": [
    {
     "data": {
      "text/html": [
       "<div>\n",
       "<style>\n",
       "    .dataframe thead tr:only-child th {\n",
       "        text-align: right;\n",
       "    }\n",
       "\n",
       "    .dataframe thead th {\n",
       "        text-align: left;\n",
       "    }\n",
       "\n",
       "    .dataframe tbody tr th {\n",
       "        vertical-align: top;\n",
       "    }\n",
       "</style>\n",
       "<table border=\"1\" class=\"dataframe\">\n",
       "  <thead>\n",
       "    <tr style=\"text-align: right;\">\n",
       "      <th></th>\n",
       "      <th>car</th>\n",
       "      <th>mpg</th>\n",
       "      <th>cyl</th>\n",
       "      <th>disp</th>\n",
       "      <th>hp</th>\n",
       "      <th>drat</th>\n",
       "      <th>wt</th>\n",
       "      <th>qsec</th>\n",
       "      <th>vs</th>\n",
       "      <th>am</th>\n",
       "      <th>gear</th>\n",
       "      <th>carb</th>\n",
       "    </tr>\n",
       "  </thead>\n",
       "  <tbody>\n",
       "    <tr>\n",
       "      <th>0</th>\n",
       "      <td>Car Brand1</td>\n",
       "      <td>18</td>\n",
       "      <td>4</td>\n",
       "      <td>1000</td>\n",
       "      <td>110</td>\n",
       "      <td>3.9</td>\n",
       "      <td>3.1</td>\n",
       "      <td>16.46</td>\n",
       "      <td>1</td>\n",
       "      <td>4</td>\n",
       "      <td>4</td>\n",
       "      <td>4</td>\n",
       "    </tr>\n",
       "    <tr>\n",
       "      <th>1</th>\n",
       "      <td>Car Brand2</td>\n",
       "      <td>24</td>\n",
       "      <td>6</td>\n",
       "      <td>2000</td>\n",
       "      <td>120</td>\n",
       "      <td>3.8</td>\n",
       "      <td>3.5</td>\n",
       "      <td>16.46</td>\n",
       "      <td>0</td>\n",
       "      <td>55</td>\n",
       "      <td>4</td>\n",
       "      <td>4</td>\n",
       "    </tr>\n",
       "    <tr>\n",
       "      <th>2</th>\n",
       "      <td>Car Brand3</td>\n",
       "      <td>30</td>\n",
       "      <td>8</td>\n",
       "      <td>3000</td>\n",
       "      <td>130</td>\n",
       "      <td>3.7</td>\n",
       "      <td>4.0</td>\n",
       "      <td>16.46</td>\n",
       "      <td>1</td>\n",
       "      <td>4</td>\n",
       "      <td>4</td>\n",
       "      <td>4</td>\n",
       "    </tr>\n",
       "  </tbody>\n",
       "</table>\n",
       "</div>"
      ],
      "text/plain": [
       "          car mpg cyl  disp   hp drat   wt   qsec vs  am gear carb\n",
       "0  Car Brand1  18   4  1000  110  3.9  3.1  16.46  1   4    4    4\n",
       "1  Car Brand2  24   6  2000  120  3.8  3.5  16.46  0  55    4    4\n",
       "2  Car Brand3  30   8  3000  130  3.7  4.0  16.46  1   4    4    4"
      ]
     },
     "execution_count": 5,
     "metadata": {},
     "output_type": "execute_result"
    }
   ],
   "source": [
    "mtcars.head(3)"
   ]
  },
  {
   "cell_type": "markdown",
   "metadata": {},
   "source": [
    "Preview the first 3 rows of the DataFrame by using the `head()` method:"
   ]
  },
  {
   "cell_type": "markdown",
   "metadata": {},
   "source": [
    "<a id='Create_an_SQLContext'></a>\n",
    "## 2. Create an SQLContext\n",
    "To work with a DataFrame, you need an SQLContext class object, and to create a basic one, all you need is a SparkContext. A SparkContext represents the connection to a Spark cluster, and a SparkContext class object named sc, which has been created for you, is used to initialize the SQLContext:"
   ]
  },
  {
   "cell_type": "code",
   "execution_count": 7,
   "metadata": {},
   "outputs": [],
   "source": [
    "from pyspark.sql import SQLContext\n",
    "from pyspark import SparkContext, SparkConf\n",
    "conf = SparkConf().setAppName(\"HelloSpark02\").setMaster(\"local\")\n",
    "sc = SparkContext(conf=conf)\n",
    "sqlContext = SQLContext(sc)"
   ]
  },
  {
   "cell_type": "code",
   "execution_count": null,
   "metadata": {},
   "outputs": [
    {
     "name": "stdout",
     "output_type": "stream",
     "text": [
      "Collecting pyspark\n",
      "  Downloading pyspark-2.2.1.tar.gz (188.2MB)\n",
      "\u001b[K    100% |████████████████████████████████| 188.2MB 7.2kB/s ta 0:00:011\n",
      "\u001b[?25hCollecting py4j==0.10.4 (from pyspark)\n",
      "  Downloading py4j-0.10.4-py2.py3-none-any.whl (186kB)\n",
      "\u001b[K    100% |████████████████████████████████| 194kB 1.6MB/s eta 0:00:01\n",
      "\u001b[?25hBuilding wheels for collected packages: pyspark\n",
      "  Running setup.py bdist_wheel for pyspark ... \u001b[?25l-\b \b\\\b \b|\b \b/\b \b-\b \b\\\b \b|\b \b/\b \b-\b \bdone\n",
      "\u001b[?25h  Stored in directory: /user-home/999/.cache/pip/wheels/15/13/d2/79b478cd48d20956d136216574cbc38e35b4957d918127c26f\n",
      "Successfully built pyspark\n",
      "Installing collected packages: py4j, pyspark\n",
      "\u001b[31mException:\n",
      "Traceback (most recent call last):\n",
      "  File \"/opt/conda/lib/python2.7/site-packages/pip/basecommand.py\", line 215, in main\n",
      "    status = self.run(options, args)\n",
      "  File \"/opt/conda/lib/python2.7/site-packages/pip/commands/install.py\", line 342, in run\n",
      "    prefix=options.prefix_path,\n",
      "  File \"/opt/conda/lib/python2.7/site-packages/pip/req/req_set.py\", line 784, in install\n",
      "    **kwargs\n",
      "  File \"/opt/conda/lib/python2.7/site-packages/pip/req/req_install.py\", line 851, in install\n",
      "    self.move_wheel_files(self.source_dir, root=root, prefix=prefix)\n",
      "  File \"/opt/conda/lib/python2.7/site-packages/pip/req/req_install.py\", line 1064, in move_wheel_files\n",
      "    isolated=self.isolated,\n",
      "  File \"/opt/conda/lib/python2.7/site-packages/pip/wheel.py\", line 345, in move_wheel_files\n",
      "    clobber(source, lib_dir, True)\n",
      "  File \"/opt/conda/lib/python2.7/site-packages/pip/wheel.py\", line 316, in clobber\n",
      "    ensure_dir(destdir)\n",
      "  File \"/opt/conda/lib/python2.7/site-packages/pip/utils/__init__.py\", line 83, in ensure_dir\n",
      "    os.makedirs(path)\n",
      "  File \"/opt/conda/lib/python2.7/os.py\", line 157, in makedirs\n",
      "    mkdir(name, mode)\n",
      "OSError: [Errno 13] Permission denied: '/opt/conda/lib/python2.7/site-packages/py4j'\u001b[0m\n"
     ]
    }
   ],
   "source": [
    "! pip install pyspark"
   ]
  },
  {
   "cell_type": "markdown",
   "metadata": {},
   "source": [
    "<a id='Create_a_Spark_DataFrame'></a>\n",
    "## 3. Create a Spark DataFrame\n",
    "Using the SQLContext class object and the loaded local DataFrame, create a Spark DataFrame and print the schema, or structure, of the DataFrame:"
   ]
  },
  {
   "cell_type": "code",
   "execution_count": 8,
   "metadata": {},
   "outputs": [
    {
     "name": "stdout",
     "output_type": "stream",
     "text": [
      "root\n",
      " |-- car: string (nullable = true)\n",
      " |-- mpg: string (nullable = true)\n",
      " |-- cyl: string (nullable = true)\n",
      " |-- disp: string (nullable = true)\n",
      " |-- hp: string (nullable = true)\n",
      " |-- drat: string (nullable = true)\n",
      " |-- wt: string (nullable = true)\n",
      " |-- qsec: string (nullable = true)\n",
      " |-- vs: string (nullable = true)\n",
      " |-- am: string (nullable = true)\n",
      " |-- gear: string (nullable = true)\n",
      " |-- carb: string (nullable = true)\n",
      "\n"
     ]
    }
   ],
   "source": [
    "sdf = sqlContext.createDataFrame(mtcars) \n",
    "sdf.printSchema()"
   ]
  },
  {
   "cell_type": "markdown",
   "metadata": {},
   "source": [
    "Display the content of the Spark DataFrame:"
   ]
  },
  {
   "cell_type": "code",
   "execution_count": 9,
   "metadata": {
    "scrolled": true
   },
   "outputs": [
    {
     "name": "stdout",
     "output_type": "stream",
     "text": [
      "+-----------+----+---+----+---+----+---+-----+---+---+----+----+\n",
      "|        car| mpg|cyl|disp| hp|drat| wt| qsec| vs| am|gear|carb|\n",
      "+-----------+----+---+----+---+----+---+-----+---+---+----+----+\n",
      "| Car Brand1|  18|  4|1000|110| 3.9|3.1|16.46|  1|  4|   4|   4|\n",
      "| Car Brand2|  24|  6|2000|120| 3.8|3.5|16.46|  0| 55|   4|   4|\n",
      "| Car Brand3|  30|  8|3000|130| 3.7|4.0|16.46|  1|  4|   4|   4|\n",
      "| Car Brand4|  14|  4|4000|140| 3.6|3.2|16.46|  0| 55|   3|   4|\n",
      "| Car Brand5|  12|  4|5000|150| 3.5|3.3|16.46|  1|  4|   4|   4|\n",
      "| Car Brand6|  20|  6|6000|160| 3.4|3.6|16.46|  0| 55|   3|   4|\n",
      "| Car Brand7|15.5|  4| 700|170| 3.3|3.4|16.46|  0|  1|   4|   4|\n",
      "| Car Brand8|  10|  4| 800|180| 3.2|3.3|16.46|  0|  0|   3|   4|\n",
      "| Car Brand9|   5|  4| 900|190| 3.1|3.2|16.46|  0|  1|   5|   4|\n",
      "|Car Brand10|   7|  4|2000|110| 3.0|3.1|16.46|  0| 55|   3|   4|\n",
      "|Car Brand11|  22|  6|3000|111| 2.9|3.7|16.46|  1|  4|   4|   4|\n",
      "|Car Brand12|  33|  8|4000|112| 2.8|4.2|16.46|  0| 55|   4|   4|\n",
      "|Car Brand13|  46|  8|5000|113| 2.7|4.3|16.46|  1|  4|   5|   4|\n",
      "|Car Brand14|   8|  4|6000|114| 2.5|3.2|16.46|  0| 55|   4|   4|\n",
      "|Car Brand15|  60|  8|7000|115| 2.4|4.4|16.46|  1|  4|   5|   4|\n",
      "+-----------+----+---+----+---+----+---+-----+---+---+----+----+\n",
      "\n"
     ]
    }
   ],
   "source": [
    "sdf.show(32)"
   ]
  },
  {
   "cell_type": "markdown",
   "metadata": {},
   "source": [
    "Try different ways of retrieving subsets of the data. For example, get the first 5 values in the **mpg** column:"
   ]
  },
  {
   "cell_type": "code",
   "execution_count": 10,
   "metadata": {
    "scrolled": true
   },
   "outputs": [
    {
     "name": "stdout",
     "output_type": "stream",
     "text": [
      "+---+\n",
      "|mpg|\n",
      "+---+\n",
      "| 18|\n",
      "| 24|\n",
      "| 30|\n",
      "| 14|\n",
      "| 12|\n",
      "+---+\n",
      "only showing top 5 rows\n",
      "\n"
     ]
    }
   ],
   "source": [
    "sdf.select('mpg').show(5)"
   ]
  },
  {
   "cell_type": "markdown",
   "metadata": {},
   "source": [
    "Filter the DataFrame to retain only rows with **mpg** values that are less than 18:"
   ]
  },
  {
   "cell_type": "code",
   "execution_count": 8,
   "metadata": {},
   "outputs": [
    {
     "name": "stdout",
     "output_type": "stream",
     "text": [
      "+-----------+----+---+----+---+----+---+-----+---+---+----+----+\n",
      "|        car| mpg|cyl|disp| hp|drat| wt| qsec| vs| am|gear|carb|\n",
      "+-----------+----+---+----+---+----+---+-----+---+---+----+----+\n",
      "| Car Brand4|  14|  4|4000|140| 3.6|3.2|16.46|  0| 55|   3|   4|\n",
      "| Car Brand5|  12|  4|5000|150| 3.5|3.3|16.46|  1|  4|   4|   4|\n",
      "| Car Brand7|15.5|  4| 700|170| 3.3|3.4|16.46|  0|  1|   4|   4|\n",
      "| Car Brand8|  10|  4| 800|180| 3.2|3.3|16.46|  0|  0|   3|   4|\n",
      "| Car Brand9|   5|  4| 900|190| 3.1|3.2|16.46|  0|  1|   5|   4|\n",
      "|Car Brand10|   7|  4|2000|110| 3.0|3.1|16.46|  0| 55|   3|   4|\n",
      "|Car Brand14|   8|  4|6000|114| 2.5|3.2|16.46|  0| 55|   4|   4|\n",
      "+-----------+----+---+----+---+----+---+-----+---+---+----+----+\n",
      "\n"
     ]
    }
   ],
   "source": [
    "sdf.filter(sdf['mpg'] < 18).show()"
   ]
  },
  {
   "cell_type": "markdown",
   "metadata": {},
   "source": [
    "<a id='Aggregate_data_after_grouping_by_columns'></a>\n",
    "## 4. Aggregate data after grouping by columns\n",
    "Spark DataFrames support a number of common functions to aggregate data after grouping. For example, you can compute the average weight of cars as a function of the number of cylinders:"
   ]
  },
  {
   "cell_type": "code",
   "execution_count": 9,
   "metadata": {},
   "outputs": [
    {
     "name": "stdout",
     "output_type": "stream",
     "text": [
      "+---+------------------+\n",
      "|cyl|           avg(wt)|\n",
      "+---+------------------+\n",
      "|  8|             4.225|\n",
      "|  6|               3.6|\n",
      "|  4|3.2250000000000005|\n",
      "+---+------------------+\n",
      "\n"
     ]
    }
   ],
   "source": [
    "sdf.groupby(['cyl'])\\\n",
    ".agg({\"wt\": \"AVG\"})\\\n",
    ".show()"
   ]
  },
  {
   "cell_type": "markdown",
   "metadata": {},
   "source": [
    "You can also sort the output from the aggregation to determine the most popular cylinder configuration in the DataFrame:"
   ]
  },
  {
   "cell_type": "code",
   "execution_count": 10,
   "metadata": {
    "scrolled": true
   },
   "outputs": [
    {
     "name": "stdout",
     "output_type": "stream",
     "text": [
      "+---+---------+\n",
      "|cyl|count(wt)|\n",
      "+---+---------+\n",
      "|  4|        8|\n",
      "|  8|        4|\n",
      "|  6|        3|\n",
      "+---+---------+\n",
      "\n"
     ]
    }
   ],
   "source": [
    "car_counts = sdf.groupby(['cyl'])\\\n",
    ".agg({\"wt\": \"count\"})\\\n",
    ".sort(\"count(wt)\", ascending=False)\\\n",
    ".show()"
   ]
  },
  {
   "cell_type": "markdown",
   "metadata": {},
   "source": [
    "<a id='Operate_on_columns'></a>\n",
    "## 5. Operate on columns\n",
    "Python provides a number of functions that you can apply directly to columns for data processing. In the following example, a basic arithmetic function converts lbs to metric tons:"
   ]
  },
  {
   "cell_type": "code",
   "execution_count": 11,
   "metadata": {},
   "outputs": [
    {
     "name": "stdout",
     "output_type": "stream",
     "text": [
      "+----------+---+------------------+\n",
      "|       car| wt|             wtTon|\n",
      "+----------+---+------------------+\n",
      "|Car Brand1|3.1|             1.395|\n",
      "|Car Brand2|3.5|             1.575|\n",
      "|Car Brand3|4.0|               1.8|\n",
      "|Car Brand4|3.2|1.4400000000000002|\n",
      "|Car Brand5|3.3|1.4849999999999999|\n",
      "|Car Brand6|3.6|              1.62|\n",
      "+----------+---+------------------+\n",
      "only showing top 6 rows\n",
      "\n"
     ]
    }
   ],
   "source": [
    "sdf.withColumn('wtTon', sdf['wt'] * 0.45).select('car','wt','wtTon').show(6)"
   ]
  },
  {
   "cell_type": "markdown",
   "metadata": {},
   "source": [
    "<a id='Run_SQL_queries_from_the_Spark_DataFrame'></a>\n",
    "## 6. Run SQL queries from the Spark DataFrame\n",
    "You can register a Spark DataFrame as a temporary table and then run SQL queries over the data. The `sql` function enables an application to run SQL queries programmatically and returns the result as a DataFrame:"
   ]
  },
  {
   "cell_type": "code",
   "execution_count": 12,
   "metadata": {},
   "outputs": [
    {
     "name": "stdout",
     "output_type": "stream",
     "text": [
      "+-----------+----+\n",
      "|        car|gear|\n",
      "+-----------+----+\n",
      "| Car Brand9|   5|\n",
      "|Car Brand13|   5|\n",
      "|Car Brand15|   5|\n",
      "+-----------+----+\n",
      "\n"
     ]
    }
   ],
   "source": [
    "sdf.registerTempTable(\"cars\")\n",
    "\n",
    "highgearcars = sqlContext.sql(\"SELECT car, gear FROM cars WHERE gear >= 5\")\n",
    "highgearcars.show()    "
   ]
  },
  {
   "cell_type": "markdown",
   "metadata": {},
   "source": [
    "## That's it!\n",
    "You successfully completed this notebook! You learned how to load a DataFrame, view and filter the data, aggregate the data, perform operations on the data in specific columns, and run SQL queries against the data. For more information about Spark, see the [Spark Quick Start Guide](http://spark.apache.org/docs/latest/quick-start.html)."
   ]
  },
  {
   "cell_type": "markdown",
   "metadata": {},
   "source": [
    "<div class=\"alert alert-block alert-info\"> Note: To save resources and get the best performance please use the code below to stop the kernel before exiting your notebook.</div>"
   ]
  },
  {
   "cell_type": "code",
   "execution_count": null,
   "metadata": {},
   "outputs": [
    {
     "data": {
      "application/javascript": [
       "Jupyter.notebook.session.delete();"
      ],
      "text/plain": [
       "<IPython.core.display.Javascript object>"
      ]
     },
     "metadata": {},
     "output_type": "display_data"
    }
   ],
   "source": [
    "%%javascript\n",
    "Jupyter.notebook.session.delete();"
   ]
  },
  {
   "cell_type": "markdown",
   "metadata": {},
   "source": [
    "<hr>\n",
    "Copyright &copy; IBM Corp. 2017. Released as licensed Sample Materials."
   ]
  }
 ],
 "metadata": {
  "kernelspec": {
   "display_name": "Python 3",
   "language": "python",
   "name": "python3"
  },
  "language_info": {
   "codemirror_mode": {
    "name": "ipython",
    "version": 3
   },
   "file_extension": ".py",
   "mimetype": "text/x-python",
   "name": "python",
   "nbconvert_exporter": "python",
   "pygments_lexer": "ipython3",
   "version": "3.6.1"
  }
 },
 "nbformat": 4,
 "nbformat_minor": 1
}
