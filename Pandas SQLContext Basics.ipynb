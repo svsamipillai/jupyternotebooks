{
 "cells": [
  {
   "cell_type": "code",
   "execution_count": 3,
   "metadata": {},
   "outputs": [
    {
     "name": "stdout",
     "output_type": "stream",
     "text": [
      "A is <= 10\n"
     ]
    }
   ],
   "source": [
    "a = 10\n",
    "if a < 10:\n",
    "    print(\"A is less than 10\")\n",
    "else:\n",
    "    print(\"A is <= 10\")"
   ]
  },
  {
   "cell_type": "code",
   "execution_count": 5,
   "metadata": {},
   "outputs": [
    {
     "name": "stdout",
     "output_type": "stream",
     "text": [
      "            car   mpg cyl  disp   hp drat   wt   qsec vs  am gear carb\n",
      "0    Car Brand1    18   4  1000  110  3.9  3.1  16.46  1   4    4    4\n",
      "1    Car Brand2    24   6  2000  120  3.8  3.5  16.46  0  55    4    4\n",
      "2    Car Brand3    30   8  3000  130  3.7  4.0  16.46  1   4    4    4\n",
      "3    Car Brand4    14   4  4000  140  3.6  3.2  16.46  0  55    3    4\n",
      "4    Car Brand5    12   4  5000  150  3.5  3.3  16.46  1   4    4    4\n",
      "5    Car Brand6    20   6  6000  160  3.4  3.6  16.46  0  55    3    4\n",
      "6    Car Brand7  15.5   4   700  170  3.3  3.4  16.46  0   1    4    4\n",
      "7    Car Brand8    10   4   800  180  3.2  3.3  16.46  0   0    3    4\n",
      "8    Car Brand9     5   4   900  190  3.1  3.2  16.46  0   1    5    4\n",
      "9   Car Brand10     7   4  2000  110  3.0  3.1  16.46  0  55    3    4\n",
      "10  Car Brand11    22   6  3000  111  2.9  3.7  16.46  1   4    4    4\n",
      "11  Car Brand12    33   8  4000  112  2.8  4.2  16.46  0  55    4    4\n",
      "12  Car Brand13    46   8  5000  113  2.7  4.3  16.46  1   4    5    4\n",
      "13  Car Brand14     8   4  6000  114  2.5  3.2  16.46  0  55    4    4\n",
      "14  Car Brand15    60   8  7000  115  2.4  4.4  16.46  1   4    5    4\n"
     ]
    }
   ],
   "source": [
    "import pandas as pd\n",
    "import numpy as np\n",
    "mtcars_array = np.array([\n",
    "    [\"Car Brand1\", 18, 4, 1000, 110, 3.9, 3.1, 16.46, 1, 4, 4, 4],\n",
    "    [\"Car Brand2\", 24, 6, 2000, 120, 3.8, 3.5, 16.46, 0, 55, 4, 4],\n",
    "    [\"Car Brand3\", 30, 8, 3000, 130, 3.7, 4.0, 16.46, 1, 4, 4, 4],\n",
    "    [\"Car Brand4\", 14, 4, 4000, 140, 3.6, 3.2, 16.46, 0, 55, 3, 4],\n",
    "    [\"Car Brand5\", 12, 4, 5000, 150, 3.5, 3.3, 16.46, 1, 4, 4, 4],\n",
    "    [\"Car Brand6\", 20, 6, 6000, 160, 3.4, 3.6, 16.46, 0, 55, 3, 4],\n",
    "    [\"Car Brand7\", 15.5, 4, 700, 170, 3.3, 3.4, 16.46, 0, 1, 4, 4],\n",
    "    [\"Car Brand8\", 10, 4, 800, 180, 3.2, 3.3, 16.46, 0, 0, 3, 4],\n",
    "    [\"Car Brand9\", 5, 4, 900, 190, 3.1, 3.2, 16.46, 0, 1, 5, 4],\n",
    "    [\"Car Brand10\", 7, 4, 2000, 110, 3.0, 3.1, 16.46, 0, 55, 3, 4],\n",
    "    [\"Car Brand11\", 22, 6, 3000, 111, 2.9, 3.7, 16.46, 1, 4, 4, 4],\n",
    "    [\"Car Brand12\", 33, 8, 4000, 112, 2.8, 4.2, 16.46, 0, 55, 4, 4],\n",
    "    [\"Car Brand13\", 46, 8, 5000, 113, 2.7, 4.3, 16.46, 1, 4, 5, 4],\n",
    "    [\"Car Brand14\", 8, 4, 6000, 114, 2.5, 3.2, 16.46, 0, 55, 4, 4],\n",
    "    [\"Car Brand15\", 60, 8, 7000, 115, 2.4, 4.4, 16.46, 1, 4, 5, 4]])\n",
    "mtcars = pd.DataFrame(mtcars_array)\n",
    "mtcars.columns = ['car', 'mpg', 'cyl', 'disp', 'hp', 'drat', 'wt', 'qsec', 'vs', 'am', 'gear', 'carb'] \n",
    "print(mtcars)"
   ]
  },
  {
   "cell_type": "code",
   "execution_count": 6,
   "metadata": {},
   "outputs": [
    {
     "name": "stdout",
     "output_type": "stream",
     "text": [
      "          car mpg cyl  disp   hp drat   wt   qsec vs  am gear carb\n",
      "0  Car Brand1  18   4  1000  110  3.9  3.1  16.46  1   4    4    4\n",
      "1  Car Brand2  24   6  2000  120  3.8  3.5  16.46  0  55    4    4\n",
      "2  Car Brand3  30   8  3000  130  3.7  4.0  16.46  1   4    4    4\n"
     ]
    }
   ],
   "source": [
    "print(mtcars.head(3))"
   ]
  },
  {
   "cell_type": "code",
   "execution_count": 3,
   "metadata": {},
   "outputs": [],
   "source": [
    "from pyspark.sql import SQLContext"
   ]
  },
  {
   "cell_type": "code",
   "execution_count": 4,
   "metadata": {},
   "outputs": [],
   "source": [
    "from pyspark import SparkContext, SparkConf"
   ]
  },
  {
   "cell_type": "code",
   "execution_count": 5,
   "metadata": {},
   "outputs": [],
   "source": [
    "conf = SparkConf().setAppName(\"HelloSpark\").setMaster(\"local\")\n",
    "sc = SparkContext(conf=conf)\n",
    "sqlContext = SQLContext(sc)\n",
    "sdf = sqlContext.createDataFrame(mtcars)"
   ]
  },
  {
   "cell_type": "code",
   "execution_count": 6,
   "metadata": {},
   "outputs": [
    {
     "name": "stdout",
     "output_type": "stream",
     "text": [
      "root\n",
      " |-- car: string (nullable = true)\n",
      " |-- mpg: string (nullable = true)\n",
      " |-- cyl: string (nullable = true)\n",
      " |-- disp: string (nullable = true)\n",
      " |-- hp: string (nullable = true)\n",
      " |-- drat: string (nullable = true)\n",
      " |-- wt: string (nullable = true)\n",
      " |-- qsec: string (nullable = true)\n",
      " |-- vs: string (nullable = true)\n",
      " |-- am: string (nullable = true)\n",
      " |-- gear: string (nullable = true)\n",
      " |-- carb: string (nullable = true)\n",
      "\n",
      "+-----------+----+---+----+---+----+---+-----+---+---+----+----+\n",
      "|        car| mpg|cyl|disp| hp|drat| wt| qsec| vs| am|gear|carb|\n",
      "+-----------+----+---+----+---+----+---+-----+---+---+----+----+\n",
      "| Car Brand1|  18|  4|1000|110| 3.9|3.1|16.46|  1|  4|   4|   4|\n",
      "| Car Brand2|  24|  6|2000|120| 3.8|3.5|16.46|  0| 55|   4|   4|\n",
      "| Car Brand3|  30|  8|3000|130| 3.7|4.0|16.46|  1|  4|   4|   4|\n",
      "| Car Brand4|  14|  4|4000|140| 3.6|3.2|16.46|  0| 55|   3|   4|\n",
      "| Car Brand5|  12|  4|5000|150| 3.5|3.3|16.46|  1|  4|   4|   4|\n",
      "| Car Brand6|  20|  6|6000|160| 3.4|3.6|16.46|  0| 55|   3|   4|\n",
      "| Car Brand7|15.5|  4| 700|170| 3.3|3.4|16.46|  0|  1|   4|   4|\n",
      "| Car Brand8|  10|  4| 800|180| 3.2|3.3|16.46|  0|  0|   3|   4|\n",
      "| Car Brand9|   5|  4| 900|190| 3.1|3.2|16.46|  0|  1|   5|   4|\n",
      "|Car Brand10|   7|  4|2000|110| 3.0|3.1|16.46|  0| 55|   3|   4|\n",
      "|Car Brand11|  22|  6|3000|111| 2.9|3.7|16.46|  1|  4|   4|   4|\n",
      "|Car Brand12|  33|  8|4000|112| 2.8|4.2|16.46|  0| 55|   4|   4|\n",
      "|Car Brand13|  46|  8|5000|113| 2.7|4.3|16.46|  1|  4|   5|   4|\n",
      "|Car Brand14|   8|  4|6000|114| 2.5|3.2|16.46|  0| 55|   4|   4|\n",
      "|Car Brand15|  60|  8|7000|115| 2.4|4.4|16.46|  1|  4|   5|   4|\n",
      "+-----------+----+---+----+---+----+---+-----+---+---+----+----+\n",
      "\n"
     ]
    }
   ],
   "source": [
    "sdf = sqlContext.createDataFrame(mtcars)\n",
    "sdf.printSchema()\n",
    "sdf.show(32)"
   ]
  },
  {
   "cell_type": "code",
   "execution_count": 7,
   "metadata": {},
   "outputs": [
    {
     "name": "stdout",
     "output_type": "stream",
     "text": [
      "+---+\n",
      "|mpg|\n",
      "+---+\n",
      "| 18|\n",
      "| 24|\n",
      "| 30|\n",
      "| 14|\n",
      "| 12|\n",
      "+---+\n",
      "only showing top 5 rows\n",
      "\n"
     ]
    }
   ],
   "source": [
    "sdf.select('mpg').show(5)"
   ]
  },
  {
   "cell_type": "code",
   "execution_count": 8,
   "metadata": {},
   "outputs": [
    {
     "name": "stdout",
     "output_type": "stream",
     "text": [
      "+-----------+----+---+----+---+----+---+-----+---+---+----+----+\n",
      "|        car| mpg|cyl|disp| hp|drat| wt| qsec| vs| am|gear|carb|\n",
      "+-----------+----+---+----+---+----+---+-----+---+---+----+----+\n",
      "| Car Brand4|  14|  4|4000|140| 3.6|3.2|16.46|  0| 55|   3|   4|\n",
      "| Car Brand5|  12|  4|5000|150| 3.5|3.3|16.46|  1|  4|   4|   4|\n",
      "| Car Brand7|15.5|  4| 700|170| 3.3|3.4|16.46|  0|  1|   4|   4|\n",
      "| Car Brand8|  10|  4| 800|180| 3.2|3.3|16.46|  0|  0|   3|   4|\n",
      "| Car Brand9|   5|  4| 900|190| 3.1|3.2|16.46|  0|  1|   5|   4|\n",
      "|Car Brand10|   7|  4|2000|110| 3.0|3.1|16.46|  0| 55|   3|   4|\n",
      "|Car Brand14|   8|  4|6000|114| 2.5|3.2|16.46|  0| 55|   4|   4|\n",
      "+-----------+----+---+----+---+----+---+-----+---+---+----+----+\n",
      "\n"
     ]
    }
   ],
   "source": [
    "sdf.filter(sdf['mpg'] < 18).show()"
   ]
  },
  {
   "cell_type": "code",
   "execution_count": 9,
   "metadata": {},
   "outputs": [
    {
     "name": "stdout",
     "output_type": "stream",
     "text": [
      "+---+-------+\n",
      "|cyl|avg(wt)|\n",
      "+---+-------+\n",
      "|  8|  4.225|\n",
      "|  6|    3.6|\n",
      "|  4|  3.225|\n",
      "+---+-------+\n",
      "\n"
     ]
    }
   ],
   "source": [
    "sdf.groupby(['cyl']).agg({\"wt\":\"AVG\"}).show()"
   ]
  },
  {
   "cell_type": "code",
   "execution_count": 10,
   "metadata": {},
   "outputs": [
    {
     "name": "stdout",
     "output_type": "stream",
     "text": [
      "+---+---------+\n",
      "|cyl|count(wt)|\n",
      "+---+---------+\n",
      "|  4|        8|\n",
      "|  8|        4|\n",
      "|  6|        3|\n",
      "+---+---------+\n",
      "\n"
     ]
    }
   ],
   "source": [
    "car_counts = sdf.groupby(['cyl']).agg({\"wt\":\"count\"}).sort(\"count(wt)\", ascending=False).show()"
   ]
  },
  {
   "cell_type": "code",
   "execution_count": 11,
   "metadata": {},
   "outputs": [
    {
     "name": "stdout",
     "output_type": "stream",
     "text": [
      "+----------+---+------------------+\n",
      "|       car| wt|             wtTon|\n",
      "+----------+---+------------------+\n",
      "|Car Brand1|3.1|             1.395|\n",
      "|Car Brand2|3.5|             1.575|\n",
      "|Car Brand3|4.0|               1.8|\n",
      "|Car Brand4|3.2|1.4400000000000002|\n",
      "|Car Brand5|3.3|1.4849999999999999|\n",
      "|Car Brand6|3.6|              1.62|\n",
      "+----------+---+------------------+\n",
      "only showing top 6 rows\n",
      "\n"
     ]
    }
   ],
   "source": [
    "sdf.withColumn('wtTon', sdf['wt'] * 0.45).select('car','wt','wtTon').show(6)"
   ]
  },
  {
   "cell_type": "code",
   "execution_count": 12,
   "metadata": {},
   "outputs": [
    {
     "name": "stdout",
     "output_type": "stream",
     "text": [
      "+-----------+----+\n",
      "|        car|gear|\n",
      "+-----------+----+\n",
      "| Car Brand9|   5|\n",
      "|Car Brand13|   5|\n",
      "|Car Brand15|   5|\n",
      "+-----------+----+\n",
      "\n"
     ]
    }
   ],
   "source": [
    "sdf.registerTempTable(\"cars\")\n",
    "highgearcars = sqlContext.sql(\"SELECT car, gear FROM cars WHERE gear >= 5\")\n",
    "highgearcars.show()"
   ]
  },
  {
   "cell_type": "code",
   "execution_count": 13,
   "metadata": {},
   "outputs": [
    {
     "name": "stdout",
     "output_type": "stream",
     "text": [
      "C:\\Work\\Projects\\DataScience\\jupyternotebooks\n"
     ]
    }
   ],
   "source": [
    "import os \n",
    "pwd = os.getcwd()\n",
    "print(pwd)"
   ]
  },
  {
   "cell_type": "code",
   "execution_count": 14,
   "metadata": {},
   "outputs": [],
   "source": [
    "spark = sc.getOrCreate()"
   ]
  },
  {
   "cell_type": "code",
   "execution_count": 15,
   "metadata": {},
   "outputs": [
    {
     "name": "stdout",
     "output_type": "stream",
     "text": [
      "<SparkContext master=local appName=HelloSpark>\n"
     ]
    }
   ],
   "source": [
    "print(spark)"
   ]
  },
  {
   "cell_type": "code",
   "execution_count": 16,
   "metadata": {},
   "outputs": [],
   "source": [
    "carsDf = sqlContext.read.format(\"csv\").option(\"header\", \"true\").load(\"./cars.csv\")"
   ]
  },
  {
   "cell_type": "code",
   "execution_count": 17,
   "metadata": {},
   "outputs": [
    {
     "name": "stdout",
     "output_type": "stream",
     "text": [
      "DataFrame[mpg: string, cylinders: string, engine: string, horsepower: string, weight: string, acceleration: string, year: string, origin: string, name: string]\n"
     ]
    }
   ],
   "source": [
    "print(carsDf)"
   ]
  },
  {
   "cell_type": "code",
   "execution_count": 18,
   "metadata": {},
   "outputs": [
    {
     "name": "stdout",
     "output_type": "stream",
     "text": [
      "+---+---------+------+----------+------+------------+----+--------+--------------------+\n",
      "|mpg|cylinders|engine|horsepower|weight|acceleration|year|  origin|                name|\n",
      "+---+---------+------+----------+------+------------+----+--------+--------------------+\n",
      "| 18|        8|   307|       130|  3504|          12|  70|American|chevrolet chevell...|\n",
      "| 15|        8|   350|       165|  3693|        11.5|  70|American|   buick skylark 320|\n",
      "| 18|        8|   318|       150|  3436|          11|  70|American|  plymouth satellite|\n",
      "| 16|        8|   304|       150|  3433|          12|  70|American|       amc rebel sst|\n",
      "| 17|        8|   302|       140|  3449|        10.5|  70|American|         ford torino|\n",
      "+---+---------+------+----------+------+------------+----+--------+--------------------+\n",
      "only showing top 5 rows\n",
      "\n",
      "None\n"
     ]
    }
   ],
   "source": [
    "print(carsDf.show(5))"
   ]
  },
  {
   "cell_type": "code",
   "execution_count": 19,
   "metadata": {},
   "outputs": [
    {
     "name": "stdout",
     "output_type": "stream",
     "text": [
      "+---+---------+------+----------+------+------------+----+--------+--------------------+\n",
      "|mpg|cylinders|engine|horsepower|weight|acceleration|year|  origin|                name|\n",
      "+---+---------+------+----------+------+------------+----+--------+--------------------+\n",
      "| 18|        8|   307|       130|  3504|          12|  70|American|chevrolet chevell...|\n",
      "| 15|        8|   350|       165|  3693|        11.5|  70|American|   buick skylark 320|\n",
      "| 18|        8|   318|       150|  3436|          11|  70|American|  plymouth satellite|\n",
      "| 16|        8|   304|       150|  3433|          12|  70|American|       amc rebel sst|\n",
      "| 17|        8|   302|       140|  3449|        10.5|  70|American|         ford torino|\n",
      "| 15|        8|   429|       198|  4341|          10|  70|American|    ford galaxie 500|\n",
      "| 14|        8|   454|       220|  4354|           9|  70|American|    chevrolet impala|\n",
      "| 14|        8|   440|       215|  4312|         8.5|  70|American|   plymouth fury iii|\n",
      "| 14|        8|   455|       225|  4425|          10|  70|American|    pontiac catalina|\n",
      "| 15|        8|   390|       190|  3850|         8.5|  70|American|  amc ambassador dpl|\n",
      "|nan|        8|   350|       165|  4142|        11.5|  70|American|chevrolet chevell...|\n",
      "|nan|        8|   351|       153|  4034|          11|  70|American|    ford torino (sw)|\n",
      "|nan|        8|   383|       175|  4166|        10.5|  70|American|plymouth satellit...|\n",
      "|nan|        8|   360|       175|  3850|          11|  70|American|  amc rebel sst (sw)|\n",
      "| 15|        8|   383|       170|  3563|          10|  70|American| dodge challenger se|\n",
      "| 14|        8|   340|       160|  3609|           8|  70|American|   plymouth cuda 340|\n",
      "|nan|        8|   302|       140|  3353|           8|  70|American|ford mustang boss...|\n",
      "| 15|        8|   400|       150|  3761|         9.5|  70|American|chevrolet monte c...|\n",
      "| 14|        8|   455|       225|  3086|          10|  70|American|buick estate wago...|\n",
      "| 22|        6|   198|        95|  2833|        15.5|  70|American|     plymouth duster|\n",
      "+---+---------+------+----------+------+------------+----+--------+--------------------+\n",
      "only showing top 20 rows\n",
      "\n",
      "None\n"
     ]
    }
   ],
   "source": [
    "print(carsDf.show())"
   ]
  },
  {
   "cell_type": "code",
   "execution_count": null,
   "metadata": {},
   "outputs": [
    {
     "data": {
      "application/javascript": [
       "Jupyter.notebook.session.delete();"
      ],
      "text/plain": [
       "<IPython.core.display.Javascript object>"
      ]
     },
     "metadata": {},
     "output_type": "display_data"
    }
   ],
   "source": [
    "%%javascript\n",
    "Jupyter.notebook.session.delete();"
   ]
  }
 ],
 "metadata": {
  "kernelspec": {
   "display_name": "Python 3",
   "language": "python",
   "name": "python3"
  },
  "language_info": {
   "codemirror_mode": {
    "name": "ipython",
    "version": 3
   },
   "file_extension": ".py",
   "mimetype": "text/x-python",
   "name": "python",
   "nbconvert_exporter": "python",
   "pygments_lexer": "ipython3",
   "version": "3.6.1"
  }
 },
 "nbformat": 4,
 "nbformat_minor": 2
}
